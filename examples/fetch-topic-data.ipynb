{
 "cells": [
  {
   "cell_type": "markdown",
   "id": "f3fc760a-18a3-4428-acf5-8afad7d24294",
   "metadata": {},
   "source": [
    "# Roboto SDK - Fetch Topic Data\n",
    "\n",
    "This notebook shows how to use the Roboto SDK to:\n",
    "- List log files and their topics in a dataset\n",
    "- Fetch data for a topic and plot some of it\n",
    "- Get events created in a dataset\n",
    "- Fetch slices of topic data from an event and plot it\n",
    "- Render image topic data that corresponds to the same event\n",
    "\n",
    "You can use the [Python SDK documentation](https://docs.roboto.ai/reference/python-sdk/roboto/domain/index.html) for more details on any of the functions used below."
   ]
  },
  {
   "cell_type": "code",
   "execution_count": null,
   "id": "e82da588-9ac5-4d74-9cbb-241e8fd8fcce",
   "metadata": {},
   "outputs": [],
   "source": [
    "from roboto import Dataset, File, Topic, Event, MessagePath"
   ]
  },
  {
   "cell_type": "markdown",
   "id": "ccdbef4f-4908-4b97-afb1-03e2e3718201",
   "metadata": {},
   "source": [
    "## List log files and their topics in a dataset\n",
    "The dataset used below is public and from a collection of drone racing data. You can see the [dataset](https://app.roboto.ai/datasets/ds_w6lve6tl6f16) and [collection](https://app.roboto.ai/collections/cl_pxlseuhim8ym) on Roboto."
   ]
  },
  {
   "cell_type": "code",
   "execution_count": null,
   "id": "a3641657-8633-4e10-9ff4-8829682bc532",
   "metadata": {},
   "outputs": [],
   "source": [
    "ds = Dataset.from_id(\"ds_w6lve6tl6f16\")\n",
    "files = ds.list_files()\n",
    "\n",
    "for file in files:\n",
    "    print(file.relative_path)\n",
    "    topics = file.get_topics()\n",
    "    for topic in topics:\n",
    "        print(topic.name)"
   ]
  },
  {
   "cell_type": "markdown",
   "id": "567f0525-45b8-4096-8a31-945a757c52fc",
   "metadata": {},
   "source": [
    "## Fetch data for a topic and plot some of it\n",
    "In this case, we're getting `/snappy_imu` topic data matching `linear_acceleration` message paths in a log file.\n",
    "\n",
    "You can also specify `start_time` and `end_time` in `get_data_as_df`. "
   ]
  },
  {
   "cell_type": "code",
   "execution_count": null,
   "id": "f0331f9d-6348-4b67-9708-2d40d83b0071",
   "metadata": {},
   "outputs": [],
   "source": [
    "# Get a specific IMU topic from a log file\n",
    "topic = file.get_topic(\"/snappy_imu\")\n",
    "\n",
    "# Fetch all of the linear_acceleration data in the IMU topic as a dataframe\n",
    "df = topic.get_data_as_df([\"linear_acceleration\"])\n",
    "\n",
    "df.plot()"
   ]
  },
  {
   "cell_type": "markdown",
   "id": "8156e78d-4bea-4848-bf1d-852843ec0b13",
   "metadata": {},
   "source": [
    "## Get events created in a dataset\n",
    "Events might have been created on the dataset itself, or on underlying files, topics and message paths.\n",
    "\n",
    "In this case, there's just one topic-level event on `/snappy_imu`."
   ]
  },
  {
   "cell_type": "code",
   "execution_count": null,
   "id": "52a7b9f1-76c0-4e75-b1f3-71f76796790d",
   "metadata": {},
   "outputs": [],
   "source": [
    "events = list(Event.get_by_dataset(ds.dataset_id, transitive=True))\n",
    "\n",
    "# Show details for one event\n",
    "event = events[0]\n",
    "topic = Topic.from_id(event.topic_ids[0])\n",
    "print(f\"{event.event_id} - {event.name} - {topic.name}\")\n",
    "print(f\"t0: {event.start_time}\")\n",
    "print(f\"tN: {event.end_time}\")"
   ]
  },
  {
   "cell_type": "markdown",
   "id": "63108e19-5892-4ae3-9eb9-0019ef4a3503",
   "metadata": {},
   "source": [
    "## Fetch slices of topic data from an event and plot it\n",
    "Note, this is a small subset of the data plotted previously. Events make it easy to get specific slices of data."
   ]
  },
  {
   "cell_type": "code",
   "execution_count": null,
   "id": "8fa22331-0bfd-4c3e-9759-af6d6fbcbecf",
   "metadata": {},
   "outputs": [],
   "source": [
    "# Fetch the linear_acceleration data associated with the topic event\n",
    "df = event.get_data_as_df([\"linear_acceleration\"])\n",
    "df.plot()"
   ]
  },
  {
   "cell_type": "markdown",
   "id": "f7e8e877-8d2c-4682-aea5-9c970fb37be8",
   "metadata": {},
   "source": [
    "## Render image topic data that corresponds to the same event\n",
    "The event wasn't specifically created on the image topic, but we can still use the event's start and end time to fetch data from other corresponding topics."
   ]
  },
  {
   "cell_type": "code",
   "execution_count": null,
   "id": "2756abd4-3f32-4876-979c-62afaeb466f4",
   "metadata": {},
   "outputs": [],
   "source": [
    "from IPython.display import display, Image\n",
    "import io\n",
    "import json\n",
    "\n",
    "# Get camera topic with image data\n",
    "camera_topic = file.get_topic(\"/snappy_cam/stereo_l\")\n",
    "\n",
    "# Fetch image data corresponding to the event start and end time\n",
    "camera_data = camera_topic.get_data(\n",
    "    start_time=event.start_time,\n",
    "    end_time=event.end_time\n",
    ")\n",
    "\n",
    "# Show the first 5 images\n",
    "for i, datum in enumerate(camera_data):\n",
    "    if i >= 5:\n",
    "        break\n",
    "    display(Image(data=datum[\"data\"], width=500))"
   ]
  }
 ],
 "metadata": {
  "kernelspec": {
   "display_name": "Python 3 (ipykernel)",
   "language": "python",
   "name": "python3"
  },
  "language_info": {
   "codemirror_mode": {
    "name": "ipython",
    "version": 3
   },
   "file_extension": ".py",
   "mimetype": "text/x-python",
   "name": "python",
   "nbconvert_exporter": "python",
   "pygments_lexer": "ipython3",
   "version": "3.10.9"
  }
 },
 "nbformat": 4,
 "nbformat_minor": 5
}
