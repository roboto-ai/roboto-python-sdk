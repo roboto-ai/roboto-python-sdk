{
 "cells": [
  {
   "cell_type": "markdown",
   "id": "ffd60af6-b052-4b97-8bb9-d656857e9db3",
   "metadata": {},
   "source": [
    "# Roboto SDK - Similarity Search\n",
    "\n",
    "This notebook shows how to use the Roboto SDK to:\n",
    "- Retrieve topic data corresponding to an event (in this case IMU data in drone racing logs)\n",
    "- Find similar signals in other logs that exhibit the same pattern\n",
    "- Visualize matching results\n",
    "\n",
    "You can use the [Python SDK documentation](https://docs.roboto.ai/reference/python-sdk.html) for more details on any of the functions used below.\n",
    "\n",
    "The data used in this notebook is public and from a collection of drone racing data. You can see the [collection](https://app.roboto.ai/collections/cl_pxlseuhim8ym) on Roboto."
   ]
  },
  {
   "cell_type": "markdown",
   "id": "cb4e0010-2301-48ba-acec-921f1a7911ee",
   "metadata": {},
   "source": [
    "### Initialization"
   ]
  },
  {
   "cell_type": "code",
   "execution_count": null,
   "id": "de8b8546-fbd3-44a1-83ce-b5dcbc944748",
   "metadata": {},
   "source": [
    "import roboto\n",
    "import roboto.query\n",
    "\n",
    "query_client = roboto.query.QueryClient(\n",
    "    owner_org_id=\"og_najtcyyee2qa\"  # Drone Racing EU (public data)\n",
    ")\n",
    "robotosearch = roboto.RobotoSearch(query_client=query_client)"
   ],
   "outputs": []
  },
  {
   "cell_type": "markdown",
   "id": "d2726851-7334-4091-a846-a73dd09f0b97",
   "metadata": {},
   "source": [
    "### Retrieve Event and Find Similar Signals"
   ]
  },
  {
   "cell_type": "code",
   "execution_count": null,
   "id": "3aa216bd-e8fa-4997-abed-9a60c8bb16bb",
   "metadata": {},
   "source": [
    "import roboto.analytics\n",
    "\n",
    "event = roboto.domain.events.Event.from_id(\n",
    "    \"ev_6funfjngoznn17x3\", \n",
    ")\n",
    "\n",
    "topics_to_match_against = robotosearch.find_topics(f\"topic.name = '/snappy_imu'\")\n",
    "\n",
    "query_signal = event.get_data_as_df(\n",
    "    message_paths_include=[\"linear_acceleration\", \"angular_velocity\"]\n",
    ")\n",
    "\n",
    "matches = roboto.analytics.find_similar_signals(\n",
    "    query_signal,\n",
    "    topics_to_match_against,\n",
    "    max_matches_per_topic=1,\n",
    "    normalize=True\n",
    ")"
   ],
   "outputs": []
  },
  {
   "cell_type": "markdown",
   "id": "0413e6da-eeeb-4bb2-85a5-9b4898fd5a4e",
   "metadata": {},
   "source": [
    "### Inspect Results"
   ]
  },
  {
   "cell_type": "code",
   "execution_count": null,
   "id": "72baea36-6364-4194-8f81-c60b0d600de0",
   "metadata": {},
   "source": [
    "from match_visualization_utils import print_match_results\n",
    "\n",
    "print_match_results(\n",
    "    matches[:5], \n",
    "    image_topic=\"/snappy_cam/stereo_l\"\n",
    ")"
   ],
   "outputs": []
  }
 ],
 "metadata": {
  "kernelspec": {
   "display_name": "Python 3 (ipykernel)",
   "language": "python",
   "name": "python3"
  },
  "language_info": {
   "codemirror_mode": {
    "name": "ipython",
    "version": 3
   },
   "file_extension": ".py",
   "mimetype": "text/x-python",
   "name": "python",
   "nbconvert_exporter": "python",
   "pygments_lexer": "ipython3",
   "version": "3.10.9"
  }
 },
 "nbformat": 4,
 "nbformat_minor": 5
}
