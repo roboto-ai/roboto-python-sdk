{
 "cells": [
  {
   "cell_type": "markdown",
   "id": "cb4e0010-2301-48ba-acec-921f1a7911ee",
   "metadata": {},
   "source": [
    "### Initialization"
   ]
  },
  {
   "cell_type": "code",
   "execution_count": null,
   "id": "de8b8546-fbd3-44a1-83ce-b5dcbc944748",
   "metadata": {},
   "outputs": [],
   "source": [
    "import roboto\n",
    "import roboto.query\n",
    "\n",
    "\n",
    "roboto_config = roboto.RobotoConfig.from_env(\"prod\")\n",
    "roboto_client = roboto.RobotoClient.from_config(roboto_config)\n",
    "query_client = roboto.query.QueryClient(\n",
    "    roboto_client=roboto_client,\n",
    "    owner_org_id=\"og_najtcyyee2qa\"  # Drone Racing EU\n",
    ")\n",
    "robotosearch = roboto.RobotoSearch(query_client=query_client)"
   ]
  },
  {
   "cell_type": "markdown",
   "id": "d2726851-7334-4091-a846-a73dd09f0b97",
   "metadata": {},
   "source": [
    "### Retrieve Event and Find Similar Signals"
   ]
  },
  {
   "cell_type": "code",
   "execution_count": null,
   "id": "3aa216bd-e8fa-4997-abed-9a60c8bb16bb",
   "metadata": {},
   "outputs": [],
   "source": [
    "import roboto.analytics\n",
    "\n",
    "\n",
    "event = roboto.domain.events.Event.from_id(\n",
    "    \"ev_6funfjngoznn17x3\", \n",
    "    roboto_client=roboto_client\n",
    ")\n",
    "\n",
    "# This is the topic on which the event was made.\n",
    "# In this example, it's the \"/snappy_imu\" topic.\n",
    "source_topic = roboto.Topic.from_id(\n",
    "    event.topic_ids[0], \n",
    "    roboto_client=roboto_client\n",
    ")\n",
    "topics_to_match_against = robotosearch.find_topics(f\"topic.name = '{source_topic.name}'\")\n",
    "\n",
    "query_signal = event.get_data_as_df(\n",
    "    message_paths_include=[\"linear_acceleration\", \"angular_velocity\"]\n",
    ")\n",
    "\n",
    "matches = roboto.analytics.find_similar_signals(\n",
    "    query_signal,\n",
    "    topics_to_match_against,\n",
    "    max_matches_per_topic=1,\n",
    "    normalize=True\n",
    ")"
   ]
  },
  {
   "cell_type": "markdown",
   "id": "0413e6da-eeeb-4bb2-85a5-9b4898fd5a4e",
   "metadata": {},
   "source": [
    "### Inspect Results"
   ]
  },
  {
   "cell_type": "code",
   "execution_count": null,
   "id": "72baea36-6364-4194-8f81-c60b0d600de0",
   "metadata": {},
   "outputs": [],
   "source": [
    "from match_visualization_utils import print_match_results\n",
    "\n",
    "\n",
    "print_match_results(\n",
    "    matches[:5], \n",
    "    image_topic=\"/snappy_cam/stereo_l\", \n",
    "    roboto_client=roboto_client\n",
    ")"
   ]
  }
 ],
 "metadata": {
  "kernelspec": {
   "display_name": "Python 3 (ipykernel)",
   "language": "python",
   "name": "python3"
  },
  "language_info": {
   "codemirror_mode": {
    "name": "ipython",
    "version": 3
   },
   "file_extension": ".py",
   "mimetype": "text/x-python",
   "name": "python",
   "nbconvert_exporter": "python",
   "pygments_lexer": "ipython3",
   "version": "3.10.12"
  }
 },
 "nbformat": 4,
 "nbformat_minor": 5
}
