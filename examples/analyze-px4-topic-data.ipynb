{
 "cells": [
  {
   "cell_type": "markdown",
   "id": "f3fc760a-18a3-4428-acf5-8afad7d24294",
   "metadata": {},
   "source": [
    "# Roboto SDK - Analyze Magnetic Interference in PX4 Logs\n",
    "\n",
    "This notebook demonstrates how to use the [Roboto SDK](https://docs.roboto.ai/learn/sdk.html) to analyze a PX4 flight log to determine whether the magnetometer norm correlates with the vehicle’s thrust signal. Such correlation would indicate that current drawn by the motors or other onboard electronics is distorting the magnetic field, potentially causing incorrect yaw estimation. \n",
    "\n",
    "In the cells that follow, you will see how to quickly extract topics from flight logs as [pandas DataFrames](https://pandas.pydata.org/docs/reference/api/pandas.DataFrame.html) for analysis. For more information on any of the methods shown here, refer to the [Python SDK documentation](https://docs.roboto.ai/reference/python-sdk.html).\n",
    "\n",
    "The data used in this notebook is public and from the PX4 Flight Review website."
   ]
  },
  {
   "cell_type": "markdown",
   "id": "385da594-fba6-4749-824f-f9e0cd9e9f89",
   "metadata": {},
   "source": [
    "## Initialization"
   ]
  },
  {
   "cell_type": "code",
   "execution_count": null,
   "id": "e82da588-9ac5-4d74-9cbb-241e8fd8fcce",
   "metadata": {},
   "outputs": [],
   "source": [
    "import numpy as np\n",
    "import pandas as pd\n",
    "import matplotlib.pyplot as plt\n",
    "from roboto import File"
   ]
  },
  {
   "cell_type": "markdown",
   "id": "ccdbef4f-4908-4b97-afb1-03e2e3718201",
   "metadata": {},
   "source": [
    "Once a log file is uploaded to Roboto, it is processed by a corresponding action that indexes the data, making it accessible through the Python SDK. In this example, we’ll work with a publicly available drone log from the PX4 Autopilot community. However, Roboto also supports other formats, such as ROS bags, MCAP files, and more."
   ]
  },
  {
   "cell_type": "code",
   "execution_count": null,
   "id": "a3641657-8633-4e10-9ff4-8829682bc532",
   "metadata": {},
   "outputs": [],
   "source": [
    "file = File.from_path_and_dataset_id(\n",
    "    file_path=\"test_flight.ulg\", \n",
    "    dataset_id=\"ds_4x7fa9o2s4q5\"\n",
    ")"
   ]
  },
  {
   "cell_type": "markdown",
   "id": "567f0525-45b8-4096-8a31-945a757c52fc",
   "metadata": {},
   "source": [
    "## Get Magnetometer Topic Data\n",
    "This cell retrieves the `sensor_mag` topic, creates a pandas DataFrame with the `x`, `y`, and `z` signals, and then plots the data."
   ]
  },
  {
   "cell_type": "code",
   "execution_count": null,
   "id": "f0331f9d-6348-4b67-9708-2d40d83b0071",
   "metadata": {},
   "outputs": [],
   "source": [
    "# Fetch the `sensor_mag` topic from the log file\n",
    "mag_topic = file.get_topic(\"sensor_mag\")\n",
    "\n",
    "# Get the `x`, `y` and `z` signals from the topic as a DataFrame\n",
    "mag_df = mag_topic.get_data_as_df(['x', 'y', 'z'])\n",
    "\n",
    "# Plot the data with a single command\n",
    "mag_df.plot(title=\"Magnetometer X, Y, Z\")"
   ]
  },
  {
   "cell_type": "markdown",
   "id": "e0d401c2",
   "metadata": {},
   "source": [
    "Note: If you want to see the other fields (aka message paths) in the `sensor_mag` topic you can explore the record:"
   ]
  },
  {
   "cell_type": "code",
   "execution_count": null,
   "id": "7b08110e",
   "metadata": {},
   "outputs": [],
   "source": [
    "print(\"Message paths in `sensor_mag` topic:\")\n",
    "for mp in mag_topic.message_paths:\n",
    "    print(f\"{mp.message_path}\")"
   ]
  },
  {
   "cell_type": "markdown",
   "id": "089b5b6c-f04f-4ef9-ab27-9ca5b24dc4d1",
   "metadata": {},
   "source": [
    "## Compute the Magnetic Field Norm\n",
    "This cell calculates the magnetic field’s magnitude. Ideally, the norm remains relatively constant; large deviations may indicate external disturbances (e.g., flying near metal structures) or incorrect sensor readings. To assess this, we compare the standard deviation to the mean to see if the norm is stable within ±5% of its average."
   ]
  },
  {
   "cell_type": "code",
   "execution_count": null,
   "id": "7c8ab960-de56-4746-bf45-5c5bd1d5ad35",
   "metadata": {},
   "outputs": [],
   "source": [
    "mag_norm = np.sqrt(mag_df.x**2 + mag_df.y**2 + mag_df.z**2)\n",
    "mean_norm = mag_norm.mean()\n",
    "std_norm  = mag_norm.std()\n",
    "threshold = 0.05\n",
    "\n",
    "if std_norm > (threshold * mean_norm):\n",
    "    print(\"Magnetometer norm varies more than ±5% from the mean.\")\n",
    "else:\n",
    "    print(\"Magnetometer norm is fairly constant within ±5% of the mean.\")\n",
    "\n",
    "mag_norm.plot(title=\"Magnetometer Norm\", color=\"#9467bd\")"
   ]
  },
  {
   "cell_type": "markdown",
   "id": "d8b36832-c0cf-4eac-97a1-ff29cf763ff2",
   "metadata": {},
   "source": [
    "## Get Thrust Topic Data\n",
    "This cell retrieves the `vehicle_thrust_setpoint` topic data and creates a pandas DataFrame with the `x`, `y`, and `z` setpoint signals."
   ]
  },
  {
   "cell_type": "code",
   "execution_count": null,
   "id": "fdb2827b-4881-4ba6-858c-54706b06d20b",
   "metadata": {},
   "outputs": [],
   "source": [
    "# Fetch the `vehicle_thrust_setpoint` topic from the log file\n",
    "thrust_topic = file.get_topic(\"vehicle_thrust_setpoint\")\n",
    "\n",
    "# Get the `xyz` signal from the topic as a DataFrame\n",
    "thrust_df = thrust_topic.get_data_as_df(['xyz'])\n",
    "\n",
    "# Expand and drop `xyz` into separate x, y, z columns\n",
    "thrust_df[['x', 'y', 'z']] = thrust_df['xyz'].apply(pd.Series)\n",
    "thrust_df = thrust_df.drop(columns=['xyz'])\n",
    "\n",
    "# Plot the data with a single command\n",
    "thrust_df.plot(title=\"Thrust X, Y, Z\")"
   ]
  },
  {
   "cell_type": "markdown",
   "id": "a3fa86af",
   "metadata": {},
   "source": [
    "## Compute the Thrust Norm\n",
    "\n",
    "This cell calculates the thrust vector's norm. We'll use this to compare with the magnetometer's norm."
   ]
  },
  {
   "cell_type": "code",
   "execution_count": null,
   "id": "96d3a4a2",
   "metadata": {},
   "outputs": [],
   "source": [
    "# Compute thrust vector norm\n",
    "thrust_norm = np.sqrt(thrust_df.x**2 + thrust_df.y**2 + thrust_df.z**2)\n",
    "\n",
    "thrust_norm.plot(title=\"Thrust Norm\", color=\"#8c564b\")"
   ]
  },
  {
   "cell_type": "markdown",
   "id": "8468a9a7-52d3-48f5-9bf5-aa238cbab17f",
   "metadata": {},
   "source": [
    "## Compare Magnetometer vs. Thrust Norm\n",
    "In the plot below, note the clear correlation between the norms, which can introduce yaw estimation errors and potentially lead to a crash. To mitigate this, it is recommended to place the magnetometer (and GPS) farther from power electronics, wiring, and motors on the airframe."
   ]
  },
  {
   "cell_type": "code",
   "execution_count": null,
   "id": "9d3a669f-2a21-4704-b982-8ed50fcc2675",
   "metadata": {},
   "outputs": [],
   "source": [
    "fig, ax = plt.subplots()\n",
    "ax.plot(mag_norm, label=\"Magnetometer Norm\", color=\"#9467bd\")\n",
    "ax.plot(thrust_norm, label=\"Thrust Norm\", color=\"#8c564b\")\n",
    "ax.set_title(\"Magnetometer Norm vs. Thrust Norm\")\n",
    "ax.set_xlabel(\"Time (index)\")\n",
    "ax.set_ylabel(\"Norm\")\n",
    "ax.legend()\n",
    "plt.show()"
   ]
  },
  {
   "cell_type": "markdown",
   "id": "5b9634af-2521-43bf-9623-3c584ce0193d",
   "metadata": {},
   "source": [
    "## Calculate Correlation \n",
    "This cell calculates the Pearson correlation between the magnetometer and thrust norms. The magnetometer data is first interpolated to match the thrust timestamps before computing the correlation coefficient."
   ]
  },
  {
   "cell_type": "code",
   "execution_count": null,
   "id": "e37218e0-f384-4814-94d7-54058ceaa802",
   "metadata": {},
   "outputs": [],
   "source": [
    "mag_norm_interp = np.interp(thrust_norm.index, mag_norm.index, mag_norm)\n",
    "corr_matrix = np.corrcoef(mag_norm_interp, thrust_norm)\n",
    "pearson_r = corr_matrix[0, 1]\n",
    "\n",
    "print(f\"Pearson correlation between magnetometer norm and thrust norm: {pearson_r:.4f}\")"
   ]
  }
 ],
 "metadata": {
  "kernelspec": {
   "display_name": "Python 3 (ipykernel)",
   "language": "python",
   "name": "python3"
  },
  "language_info": {
   "codemirror_mode": {
    "name": "ipython",
    "version": 3
   },
   "file_extension": ".py",
   "mimetype": "text/x-python",
   "name": "python",
   "nbconvert_exporter": "python",
   "pygments_lexer": "ipython3",
   "version": "3.10.9"
  }
 },
 "nbformat": 4,
 "nbformat_minor": 5
}
