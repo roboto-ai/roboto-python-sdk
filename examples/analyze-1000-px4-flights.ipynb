{
 "cells": [
  {
   "cell_type": "markdown",
   "id": "c9cf37b4-51b9-4b12-a53d-8dbf0151f564",
   "metadata": {},
   "source": [
    "# Roboto SDK - Analyze 1,000 PX4 Flights\n",
    "\n",
    "This notebook shows how to use the [Roboto SDK](https://docs.roboto.ai/learn/sdk.html) to aggregate metrics from a large number of log files and analyze the results.\n",
    "\n",
    "We'll look at a couple of examples, where we’ll role-play different job functions in a company building an autonomous drone with the PX4 Flight Controller. \n",
    "\n",
    "The data used in this notebook is public and from the PX4 Flight Review website. It comprises 1,000 flights, downloaded in November 2024. You can see the [collection](https://app.roboto.ai/collections/cl_ms5mbx5dww76) on Roboto."
   ]
  },
  {
   "cell_type": "markdown",
   "id": "1cf273c2-c3f3-4658-9ddb-8f1d7dd6089e",
   "metadata": {},
   "source": [
    "## Initialization"
   ]
  },
  {
   "cell_type": "code",
   "execution_count": null,
   "id": "191dbe9e",
   "metadata": {},
   "source": [
    "import roboto\n",
    "from statistics import mean\n",
    "from notebook_utils.px4_results import plot_indicators, create_bar_chart, get_countries_by_reverse_gps\n",
    "\n",
    "query_client = roboto.query.QueryClient(\n",
    "    owner_org_id=\"og_ghla0xxceeg8\"  # PX4 Demo (public)\n",
    ")\n",
    "\n",
    "roboto_search = roboto.RobotoSearch(query_client)"
   ],
   "outputs": []
  },
  {
   "cell_type": "markdown",
   "id": "5c3a4683",
   "metadata": {},
   "source": [
    "## (1) Altitude incursions, geofence violations and RC signal loss\n",
    "\n",
    "As a Systems Engineer, your task is to report on key operational metrics, including altitude incursions—instances where the drone exceeded the maximum flight altitude of 250m—geofence violations, where the drone left the designated flight area, and occurrences of remote control (RC) signal loss."
   ]
  },
  {
   "cell_type": "code",
   "execution_count": null,
   "id": "583a6e2a-b4d6-4f29-887f-8329d930867a",
   "metadata": {},
   "source": [
    "query = 'topics[0].msgpaths[vehicle_air_data.baro_alt_meter].max > 250 AND created > \"2024-01-01\"'\n",
    "results = roboto_search.find_files(query)\n",
    "nr_altitude_incursion_events = len(list(results))"
   ],
   "outputs": []
  },
  {
   "cell_type": "code",
   "execution_count": null,
   "id": "11576a50",
   "metadata": {},
   "source": [
    "query = 'topics[0].msgpaths[vehicle_status.geofence_violated].true_count > 0 AND created > \"2024-01-01\"'\n",
    "results = roboto_search.find_files(query)\n",
    "nr_geofence_violations = len(list(results))"
   ],
   "outputs": []
  },
  {
   "cell_type": "code",
   "execution_count": null,
   "id": "f6a45b3e-4363-47e6-b113-850152513bc3",
   "metadata": {},
   "source": [
    "query = 'topics[0].msgpaths[vehicle_status.rc_signal_lost].true_count > 0 AND created > \"2024-01-01\"'\n",
    "results = roboto_search.find_files(query)\n",
    "nr_rc_signal_lost = len(list(results))"
   ],
   "outputs": []
  },
  {
   "cell_type": "code",
   "execution_count": null,
   "id": "e03c6828-1c28-4752-8f1e-e9a5b26cb1c7",
   "metadata": {},
   "source": [
    "plot_indicators([\n",
    "    {\"title\": \"Altitude Incursions 2024\", \"value\": nr_altitude_incursion_events},\n",
    "    {\"title\": \"Geofence Violations 2024\", \"value\": nr_geofence_violations},\n",
    "    {\"title\": \"RC Signal Lost 2024\", \"value\": nr_rc_signal_lost}\n",
    "])"
   ],
   "outputs": []
  },
  {
   "cell_type": "markdown",
   "id": "1cd0d44b",
   "metadata": {},
   "source": [
    "## (2) CPU load statistics for master software branch\n",
    "As an Avionics Engineer developing the next-generation autopilot, you need to analyze CPU load metrics from flights using the `master` branch. Key metrics include:\n",
    "\n",
    "- Min CPU Load\n",
    "- Max CPU Load\n",
    "- Mean CPU Load"
   ]
  },
  {
   "cell_type": "code",
   "execution_count": null,
   "id": "700047c5",
   "metadata": {},
   "source": [
    "query = 'topic.name = \"cpuload\" AND path=\"load\" AND file.metadata.ver_sw_branch = \"master\"'\n",
    "results = list(roboto_search.find_message_paths(query))\n",
    "\n",
    "min_cpu_load_master_branch = min([m.min for m in results])*100\n",
    "max_cpu_load_master_branch = max([m.max for m in results])*100\n",
    "mean_cpu_load_master_branch = mean([m.mean for m in results])*100"
   ],
   "outputs": []
  },
  {
   "cell_type": "code",
   "execution_count": null,
   "id": "c7813291-6f49-4295-9970-85040dd3f890",
   "metadata": {},
   "source": [
    "plot_indicators([\n",
    "    {\"title\": \"Min CPU Load\", \"value\": min_cpu_load_master_branch, \"suffix\": \"%\"},\n",
    "    {\"title\": \"Max CPU Load\", \"value\": max_cpu_load_master_branch, \"suffix\": \"%\"},\n",
    "    {\"title\": \"Mean CPU Load\", \"value\": mean_cpu_load_master_branch, \"suffix\": \"%\"}\n",
    "])"
   ],
   "outputs": []
  },
  {
   "cell_type": "markdown",
   "id": "6cf78d26-7e35-43ac-861b-dd485387ac81",
   "metadata": {},
   "source": [
    "## (3) Compare the mean accelerometer temperature between different hardware versions\n",
    "\n",
    "As a Thermal Engineer, you need to investigate reports of accelerometer overheating following a hardware upgrade. Specifically, you need to retrieve the mean accelerometer temperature for hardware versions `PX4_FMU_V6C` and `PX4_FMU_V3`."
   ]
  },
  {
   "cell_type": "code",
   "execution_count": null,
   "id": "177843f8-09c3-412f-ab3f-d796a08d898f",
   "metadata": {},
   "source": [
    "query1 = 'topic.name = \"vehicle_imu_status_00\" AND path=\"temperature_accel\" AND file.metadata.ver_hw = \"PX4_FMU_V6C\"'\n",
    "query2 = 'topic.name = \"vehicle_imu_status_00\" AND path=\"temperature_accel\" AND file.metadata.ver_hw = \"PX4_FMU_V3\"'\n",
    "\n",
    "results1 = list(roboto_search.find_message_paths(query1))\n",
    "results2 = list(roboto_search.find_message_paths(query2))\n",
    "\n",
    "mean_accelerometer_temp_px4_fmu_v6c = mean([m.mean for m in results1])\n",
    "mean_accelerometer_temp_px4_fmu_v3 = mean([m.mean for m in results2])"
   ],
   "outputs": []
  },
  {
   "cell_type": "code",
   "execution_count": null,
   "id": "05864d43-5b82-4c07-ad88-abf17b762102",
   "metadata": {},
   "source": [
    "plot_indicators([\n",
    "    {\"title\": \"Mean Accelerometer Temp PX4_FMU_V6C\", \"value\": mean_accelerometer_temp_px4_fmu_v6c, \"suffix\": \"°C\"},\n",
    "    {\"title\": \"Mean Accelerometer Temp PX4_FMU_V3\", \"value\": mean_accelerometer_temp_px4_fmu_v3, \"suffix\": \"°C\"},\n",
    "])"
   ],
   "outputs": []
  },
  {
   "cell_type": "markdown",
   "id": "cd424ce7-c7c0-4170-8d84-3b8189465aa6",
   "metadata": {},
   "source": [
    "## (4) Analyze flight distribution by country and popularity of PX4 hardware versions\n",
    "\n",
    "Finally, we thought it would be interesting to identify the most popular PX4 hardware versions used across flights from last year, and the distribution of drone flights by country. "
   ]
  },
  {
   "cell_type": "markdown",
   "id": "0dd4effe-9f10-4919-9437-de4346a98a43",
   "metadata": {},
   "source": [
    "Let’s start with the breakdown of PX4 hardware versions:"
   ]
  },
  {
   "cell_type": "code",
   "execution_count": null,
   "id": "ae81d604",
   "metadata": {},
   "source": [
    "from collections import Counter\n",
    "\n",
    "# Retrieve and count `ver_hw` occurrences\n",
    "results = roboto_search.find_files(\"*\")\n",
    "ver_hw_counts = Counter(entry.metadata.get('ver_hw') for entry in results if entry.metadata.get('ver_hw'))\n",
    "\n",
    "# Sort counts in descending order\n",
    "sorted_ver_hw_counts = dict(sorted(ver_hw_counts.items(), key=lambda item: item[1], reverse=True))\n",
    "\n",
    "# Extract hardware names and values\n",
    "hardware_names = list(sorted_ver_hw_counts.keys())\n",
    "hardware_values = list(sorted_ver_hw_counts.values())\n",
    "\n",
    "create_bar_chart(x=hardware_names[:20], y=hardware_values[:20], title=\"Number of Flights by Hardware Version\", xaxis_title=\"Hardware Version\", yaxis_title=\"Count\")"
   ],
   "outputs": []
  },
  {
   "cell_type": "markdown",
   "id": "6febd0ba-a552-4097-84cb-33050d650786",
   "metadata": {},
   "source": [
    "Now let’s try to find the distribution of drone flights by country. \n",
    "\n",
    "To achieve this, we’ll start by obtaining the median latitude and longitude for each flight that includes the `vehicle_gps_position` topic. Next, we’ll perform a reverse GPS lookup with a free API to determine the country for each set of coordinates."
   ]
  },
  {
   "cell_type": "code",
   "execution_count": null,
   "id": "20fa9c1e-6311-4cb5-9c56-9e0ccd3dd2c5",
   "metadata": {},
   "source": [
    "# The field names in the `vehicle_gps_position` topic vary by PX4 version: \n",
    "# It may be lat/lon or latitude_deg/longitude_deg; we query both below.\n",
    "\n",
    "# Helper function to fetch query results and normalize values\n",
    "def get_coordinates(query):\n",
    "    normalization_factors = {\"lat\": 1e7, \"lon\": 1e7}\n",
    "    result_list = roboto_search.find_message_paths(query)\n",
    "    return [\n",
    "        entry.mean / normalization_factors.get(entry.path, 1)\n",
    "        for entry in result_list\n",
    "    ]\n",
    "\n",
    "# Define query strings to obtain latitude and longitude values\n",
    "latitude_query = 'topic.name=\"vehicle_gps_position\" AND (path=\"lat\" OR path=\"latitude_deg\")'\n",
    "longitude_query = 'topic.name=\"vehicle_gps_position\" AND (path=\"lon\" OR path=\"longitude_deg\")'\n",
    "\n",
    "# Retrieve latitude and longitude lists\n",
    "latitude_list = get_coordinates(latitude_query)\n",
    "longitude_list = get_coordinates(longitude_query)\n",
    "\n",
    "# Lookup countries from GPS coordinates (this may take some time)\n",
    "country_dict = get_countries_by_reverse_gps(latitude_list, longitude_list)\n",
    "\n",
    "# Sort and extract country names and values\n",
    "sorted_country_dict = dict(sorted(country_dict.items(), key=lambda item: item[1], reverse=True))\n",
    "\n",
    "create_bar_chart(x=list(sorted_country_dict.keys()), y=list(sorted_country_dict.values()), title=\"Number of Flights by Country\", xaxis_title=\"Countries\", yaxis_title=\"Count\")"
   ],
   "outputs": []
  }
 ],
 "metadata": {
  "kernelspec": {
   "display_name": "Python 3 (ipykernel)",
   "language": "python",
   "name": "python3"
  },
  "language_info": {
   "codemirror_mode": {
    "name": "ipython",
    "version": 3
   },
   "file_extension": ".py",
   "mimetype": "text/x-python",
   "name": "python",
   "nbconvert_exporter": "python",
   "pygments_lexer": "ipython3",
   "version": "3.10.9"
  }
 },
 "nbformat": 4,
 "nbformat_minor": 5
}
